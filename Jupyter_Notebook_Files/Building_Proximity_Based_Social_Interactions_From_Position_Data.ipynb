{
 "cells": [
  {
   "cell_type": "code",
   "execution_count": null,
   "id": "4b5ac4f0-76d7-40a1-bb44-09acccafe909",
   "metadata": {},
   "outputs": [],
   "source": [
    "# IN THIS FILE, PLANNING AND CREATION OF INTERACTIONS DATA BETWEEN EACH PAIR OF COWS IS DONE FOR EACH TIMESTAMP\n",
    "# INTERACTIONS.CSV FILE IS CREATED IN THIS NOTEBOOK\n",
    "#     CONTAINS THE INTERACTING PAIR OF COWS FOR EACH TIMESTAMP CONSIDERED"
   ]
  },
  {
   "cell_type": "code",
   "execution_count": null,
   "id": "e583c441-c431-417d-b40d-3c29705312fb",
   "metadata": {},
   "outputs": [],
   "source": []
  },
  {
   "cell_type": "code",
   "execution_count": null,
   "id": "545e6815-ed24-4be4-b2e7-67e9a896a550",
   "metadata": {},
   "outputs": [],
   "source": [
    "# STEPS PLANNED TO DO\n",
    "# 1. ITERATE OVER EACH TIMESTAMP OF COWS AND FOR EACH PAIR OF COWS, FIND THE EUCLIDEAN DISTANCE\n",
    "#     DECIDE A THRESHOLD FOR EUCLIDEAN DISTANCE, LESS THAN WHICH A PROXIMITY IS CONSIDERED BETWEEN TWO COWS FOR INTERACTION\n",
    "#     ASSIGN THE DATA BETWEEN EACH PAIR AS 1 IF THEY ARE IN CLOSE PROXIMITY, ELSE 0\n",
    "# 2. DEFINE INTERACTION BETWEEN EACH PAIR OF COWS AS, \n",
    "#     IF THE CLOSE PROXIMITY BETWEEN THE PAIR IS 0, THEN INTERACTION IS 0 BY DEFAULT\n",
    "#     IF THE CLOSE PROXIMITY BETWEEN THE PAIR IS 1, \n",
    "#         ASSIGN 1 FOR INTERACTION IF INTERACTION IN PREVIOUS TIMESTAMP IS 1, OR IF CLOSE PROXIMITY EXIST FOR 4 CONTINUOUS TIMESTAMPS CONSIDERING BOTH FORWARD AND BACKWARD TIMESTAMPS\n",
    "#         ELSE ASSIGN 0 FOR INTERACTION"
   ]
  },
  {
   "cell_type": "code",
   "execution_count": null,
   "id": "1b0829ce-b857-450e-9c57-590c41918f06",
   "metadata": {},
   "outputs": [],
   "source": []
  },
  {
   "cell_type": "code",
   "execution_count": 1,
   "id": "95d25717-a92e-4bc3-89b1-79d4652e36d2",
   "metadata": {},
   "outputs": [],
   "source": [
    "# IMPORT STATEMENTS\n",
    "import pandas as pd\n",
    "from collections import defaultdict\n",
    "import os\n",
    "from datetime import datetime\n",
    "import pytz\n",
    "import json\n",
    "import numpy as np"
   ]
  },
  {
   "cell_type": "code",
   "execution_count": null,
   "id": "36630937-f3bb-4791-9034-edbe73cde3c9",
   "metadata": {},
   "outputs": [],
   "source": []
  },
  {
   "cell_type": "code",
   "execution_count": null,
   "id": "8fb268e0-a2da-4700-a0a3-6a345d963e05",
   "metadata": {},
   "outputs": [],
   "source": [
    "# 1. ITERATE OVER EACH TIMESTAMP OF COWS AND FOR EACH PAIR OF COWS, FIND THE EUCLIDEAN DISTANCE\n",
    "#     DECIDE A THRESHOLD FOR EUCLIDEAN DISTANCE, LESS THAN WHICH A PROXIMITY IS CONSIDERED BETWEEN TWO COWS FOR INTERACTION\n",
    "#     ASSIGN THE DATA BETWEEN EACH PAIR AS 1 IF THEY ARE IN CLOSE PROXIMITY, ELSE 0"
   ]
  },
  {
   "cell_type": "code",
   "execution_count": 2,
   "id": "182a86d9-ba4d-4c31-9f80-e368f9f5d5b4",
   "metadata": {},
   "outputs": [],
   "source": [
    "# READ THE TIMESTAMP COW COORDINATES DICT FROM JSON FILE\n",
    "with open(\"TimeStampCowCoordinates.json\", \"r\") as file:\n",
    "    timestampCowCoordinates = json.load(file)"
   ]
  },
  {
   "cell_type": "code",
   "execution_count": 3,
   "id": "fcafc7c9-ec3b-41e1-bc51-90b210abac09",
   "metadata": {},
   "outputs": [],
   "source": [
    "# GET THE SORTED LIST OF TIMESTAMPS\n",
    "timestamps = list(timestampCowCoordinates.keys())\n",
    "timestamps.sort()"
   ]
  },
  {
   "cell_type": "code",
   "execution_count": 10,
   "id": "c7ef5aa9-d827-4807-a570-13970170b0de",
   "metadata": {},
   "outputs": [],
   "source": [
    "# FUNCTION TO FIND THE X, Y EUCLIDEAN DISTANCE\n",
    "def findEuclideanDistance(pos1, pos2):\n",
    "    if pos1 is None or pos2 is None:\n",
    "        return None\n",
    "    \n",
    "    x1, y1 = pos1[:2]\n",
    "    x2, y2 = pos2[:2]\n",
    "    \n",
    "    return np.sqrt((x2 - x1) ** 2 + (y2 - y1) ** 2)"
   ]
  },
  {
   "cell_type": "code",
   "execution_count": 35,
   "id": "68668a25-6c36-479f-8e84-2de11ce8b5e4",
   "metadata": {},
   "outputs": [],
   "source": [
    "# PRESET THE THRESHOLD FOR INTERACTION\n",
    "# THE THRESHOLD IS SET TO 2.5 METERS, OR 250 (CMS) AS UTILIZED IN THE STUDY PROXIMITY BASED INTERACTIONS\n",
    "THRESHOLD_DISTANCE = 250"
   ]
  },
  {
   "cell_type": "code",
   "execution_count": 36,
   "id": "91d18c65-9bf0-4593-a6fe-47c601400790",
   "metadata": {},
   "outputs": [],
   "source": [
    "# ITERATING OVER EACH PAIR OF COWS DURING EACH TIMESTAMP AND DETERMINING INTERACTIONS BASED ON THRESHOLD DISTANCE\n",
    "timestampProximity = defaultdict(set)\n",
    "for timestamp, positions in timestampCowCoordinates.items():\n",
    "    proximitySet = timestampProximity[timestamp]\n",
    "    for i in range(len(positions)-1):\n",
    "        for j in range(i+1, len(positions)):\n",
    "            iPosition = positions[i]\n",
    "            jPosition = positions[j]\n",
    "            distance = findEuclideanDistance(iPosition, jPosition)\n",
    "            if distance is not None and distance <= THRESHOLD_DISTANCE:\n",
    "                proximitySet.add((i, j))"
   ]
  },
  {
   "cell_type": "code",
   "execution_count": null,
   "id": "53e8e0c0-a024-4fc5-8b11-e952911d6c93",
   "metadata": {},
   "outputs": [],
   "source": []
  },
  {
   "cell_type": "code",
   "execution_count": null,
   "id": "53ba551b-fbb2-4895-9ceb-5ddaaaf39ff1",
   "metadata": {},
   "outputs": [],
   "source": []
  },
  {
   "cell_type": "code",
   "execution_count": null,
   "id": "3c8ab889-3133-4269-8ca1-921c32c21faa",
   "metadata": {},
   "outputs": [],
   "source": [
    "# 2. DEFINE INTERACTION BETWEEN EACH PAIR OF COWS AS, \n",
    "#     IF THE CLOSE PROXIMITY BETWEEN THE PAIR IS 0, THEN INTERACTION IS 0 BY DEFAULT\n",
    "#     IF THE CLOSE PROXIMITY BETWEEN THE PAIR IS 1, \n",
    "#         ASSIGN 1 FOR INTERACTION IF INTERACTION IN PREVIOUS TIMESTAMP IS 1, OR IF CLOSE PROXIMITY EXIST FOR 4 CONTINUOUS TIMESTAMPS CONSIDERING BOTH FORWARD AND BACKWARD TIMESTAMPS\n",
    "#         ELSE ASSIGN 0 FOR INTERACTION"
   ]
  },
  {
   "cell_type": "code",
   "execution_count": 37,
   "id": "15b26d16-3cda-431c-9683-303038a2cbdb",
   "metadata": {},
   "outputs": [],
   "source": [
    "# FUNCTION TO CONFIRM IF PROXIMITY EXISTS IN FOUR CONTINUOUS TIMESTAMPS\n",
    "def confirmProximity(timestampIndex, timestamps, timestampProximity, timestampInteraction, THRESHOLD_DISTANCE, i, j):\n",
    "    curr = 1\n",
    "    currTimestampIndex = timestampIndex - 1\n",
    "    if currTimestampIndex >= 0:\n",
    "        timestamp = timestamps[currTimestampIndex]\n",
    "        if (i, j) in timestampInteraction[timestamp]:\n",
    "            return True\n",
    "    while currTimestampIndex > 0: \n",
    "        timestamp = timestamps[currTimestampIndex]\n",
    "        if (i, j) in timestampProximity[timestamp]:\n",
    "            curr += 1\n",
    "            if curr >= 4:\n",
    "                break\n",
    "            currTimestampIndex -= 1\n",
    "        else:\n",
    "            break\n",
    "    if curr >= 4:\n",
    "        return True\n",
    "    currTimestampIndex = timestampIndex + 1\n",
    "    while currTimestampIndex < len(timestamps): \n",
    "        timestamp = timestamps[currTimestampIndex]\n",
    "        if (i, j) in timestampProximity[timestamp]:\n",
    "            curr += 1\n",
    "            if curr >= 4:\n",
    "                break\n",
    "            currTimestampIndex += 1\n",
    "        else:\n",
    "            break\n",
    "    return curr >= 4"
   ]
  },
  {
   "cell_type": "code",
   "execution_count": 38,
   "id": "4f712395-ee97-45dc-ae21-f7e7484facb2",
   "metadata": {},
   "outputs": [],
   "source": [
    "# INITIALIZING THE TIMESTAMP INTERACTION SET\n",
    "timestampInteraction = defaultdict(set)\n",
    "for ind, timestamp in enumerate(timestamps):\n",
    "    proximitySet = timestampProximity[timestamp]\n",
    "    interactionSet = timestampInteraction[timestamp]\n",
    "    for i, j in proximitySet:\n",
    "        if confirmProximity(ind, timestamps, timestampProximity, timestampInteraction, THRESHOLD_DISTANCE, i, j):\n",
    "            interactionSet.add((i, j))"
   ]
  },
  {
   "cell_type": "code",
   "execution_count": 39,
   "id": "cb465615-c31c-4fa8-9d29-ae81a9fb2398",
   "metadata": {},
   "outputs": [],
   "source": [
    "# FIND THE TOTAL NO. OF INTERACTION BETWEEN EACH PAIR OF COWS IN THE ENTIRE DURATION\n",
    "interactions = defaultdict(int)\n",
    "for timestamp in timestamps:\n",
    "    interactionSet = timestampInteraction[timestamp]\n",
    "    for i, j in interactionSet:\n",
    "        interactions[(i, j)] += 1"
   ]
  },
  {
   "cell_type": "code",
   "execution_count": 44,
   "id": "1f00d9ae-b942-4272-bc38-d39d40b4e5c9",
   "metadata": {},
   "outputs": [],
   "source": [
    "# CREATE THE LIST OF EDGES AND STORE THEM AS CSV FILE TO ACCES USING R \n",
    "edges = []\n",
    "for (i, j), interactionCount in interactions.items():\n",
    "    edges.append([i+1, j+1, interactionCount])\n",
    "df = pd.DataFrame(edges, columns=[\"Vertex1\", \"Vertex2\", \"Weight\"])\n",
    "csv_file = \"Interactions.csv\"\n",
    "df.to_csv(csv_file, index=False)"
   ]
  },
  {
   "cell_type": "code",
   "execution_count": null,
   "id": "8607a5ab-c8b3-4cf2-88d2-9f323f7a08e1",
   "metadata": {},
   "outputs": [],
   "source": []
  }
 ],
 "metadata": {
  "kernelspec": {
   "display_name": "Python 3 (ipykernel)",
   "language": "python",
   "name": "python3"
  },
  "language_info": {
   "codemirror_mode": {
    "name": "ipython",
    "version": 3
   },
   "file_extension": ".py",
   "mimetype": "text/x-python",
   "name": "python",
   "nbconvert_exporter": "python",
   "pygments_lexer": "ipython3",
   "version": "3.9.21"
  }
 },
 "nbformat": 4,
 "nbformat_minor": 5
}
