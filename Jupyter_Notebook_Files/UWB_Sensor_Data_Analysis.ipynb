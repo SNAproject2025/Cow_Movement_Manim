{
 "cells": [
  {
   "cell_type": "code",
   "execution_count": 14,
   "id": "21435c22-389a-41e5-adbb-44fa4e5b8e7c",
   "metadata": {},
   "outputs": [],
   "source": [
    "# IN THIS FILE, THE SENSOR UWB LOCATION DATA IS ANALYSED TO FIND THE POSSIBLE WAYS OF BUILDING \n",
    "#     THE CONTINUOUS COORDINATES \n",
    "#     THE SOCIAL NETWORK\n",
    "# THE TIMESTAMP COW COORDINATES.JSON FILE IS CREATED IN THIS NOTEBOOK\n",
    "#     IT CONTAINS THE COORDINATE INFO OF EACH COW DURING EACH TIMESTAMP"
   ]
  },
  {
   "cell_type": "code",
   "execution_count": 18,
   "id": "4462ec5a-a202-4dce-a8b3-9bfa5014f319",
   "metadata": {},
   "outputs": [],
   "source": [
    "# IMPORT STATEMENTS\n",
    "import pandas as pd\n",
    "from collections import defaultdict\n",
    "import os\n",
    "from datetime import datetime\n",
    "import pytz\n",
    "import json\n",
    "import numpy as np"
   ]
  },
  {
   "cell_type": "code",
   "execution_count": null,
   "id": "c27c471f-5982-4ebd-a228-01ddf0c27e18",
   "metadata": {},
   "outputs": [],
   "source": []
  },
  {
   "cell_type": "code",
   "execution_count": null,
   "id": "1db4c1bc-b9a9-43b7-9e3f-27737395cfaa",
   "metadata": {},
   "outputs": [],
   "source": [
    "# PLANNED STEPS\n",
    "# 1. DECODE THE TIMESTAMP DATA IN SENSOR UWB DIRECTORIES AND GET THE LIST OF SORTED TIMESTAMPS FOR DAY 1\n",
    "# 2. FROM COW TIMESTAMP DATA, CREATE THE TIMESTAMP WISE LOCATION OF ALL 10 COWS FOR EACH TIMESTAMP\n",
    "# 3. ACCESS EACH TIMESTAMP IN ORDER TO CREATE THE CONTINUOUS COORDINATES\n",
    "# 4. USING THE CONTINUOUS COORDINATES CREATE SAMPLE VIDEO\n",
    "# 5. PERFORM ANALYSIS ON THE CONTINUOUS COORDINATES, AND DESIGN A METHOD TO FORM AND BREAK INTERACTIONS \n",
    "# 6. USING THE CRETED LIST OF INTERACTIONS, CONSTRUCT THE SOCIAL NETWORK"
   ]
  },
  {
   "cell_type": "code",
   "execution_count": null,
   "id": "658401d1-4a7c-4ea3-b8f9-967c9b366af8",
   "metadata": {},
   "outputs": [],
   "source": []
  },
  {
   "cell_type": "code",
   "execution_count": null,
   "id": "b00de531-1b61-437a-8272-0f02a12982b0",
   "metadata": {},
   "outputs": [],
   "source": []
  },
  {
   "cell_type": "code",
   "execution_count": null,
   "id": "2b3b10cb-af72-443d-85f5-bf02eb3e7767",
   "metadata": {},
   "outputs": [],
   "source": [
    "# 1. DECODE THE TIMESTAMP DATA IN SENSOR UWB DIRECTORIES AND GET THE LIST OF SORTED TIMESTAMPS FOR DAY 1"
   ]
  },
  {
   "cell_type": "code",
   "execution_count": 2,
   "id": "ce66e6c8-3397-4345-9142-aaaf774ca904",
   "metadata": {},
   "outputs": [],
   "source": [
    "# FUNCTION TO DECODE THE TIMESTAMPS IN THE GIVEN DATA\n",
    "def getCDT_TimeString(timeStamp):\n",
    "    utc_time = datetime.utcfromtimestamp(timeStamp).replace(tzinfo=pytz.utc)\n",
    "    cdt_timezone = pytz.timezone('America/Chicago')\n",
    "    cdt_time = utc_time.astimezone(cdt_timezone)\n",
    "    \n",
    "    return cdt_time.strftime('%Y-%m-%d %H:%M:%S %Z')"
   ]
  },
  {
   "cell_type": "code",
   "execution_count": null,
   "id": "a6032256-5755-45e8-a81e-0bb7958e7cbb",
   "metadata": {},
   "outputs": [],
   "source": []
  },
  {
   "cell_type": "code",
   "execution_count": 3,
   "id": "55b42d98-bcf4-4190-925c-32ce93adfdc8",
   "metadata": {},
   "outputs": [],
   "source": [
    "# INITIALIZING THE BASE SENSOR DIRECTORY THAT CONTAINS THE UWB LOCATION OF ALL COWS\n",
    "# IN THIS PLACE, ADD YOUR DIRECTORY LOCATION WHICH CONTAINS UWB SENSORS FILES LOCATION\n",
    "uwb_dir = \"D:/Sibi/Thesis/Data/MmCows_Dataset/sensor_data/main_data/uwb/\""
   ]
  },
  {
   "cell_type": "code",
   "execution_count": 4,
   "id": "db948453-a31d-4b3d-85bc-2c4637ab0292",
   "metadata": {},
   "outputs": [],
   "source": [
    "# INITIALIZING THE LIST OF TIME STAMPS, AND DICTIONARY TO STORE THE CDT STRING OF TIMESTAMPS\n",
    "timeStamps = []\n",
    "cdtTime = dict()"
   ]
  },
  {
   "cell_type": "code",
   "execution_count": 6,
   "id": "19959ff0-ce98-4b00-8822-e45fbb864f7d",
   "metadata": {},
   "outputs": [],
   "source": [
    "# ITERATING THROUGH THE DIRECTORY OF EACH COW TO POPULATE THE DAY 1 TIMESTAMPS LIST AND CDT TIME DICT\n",
    "cowDirectoryNames = os.listdir(uwb_dir)\n",
    "for cowDirectoryName in cowDirectoryNames:\n",
    "    cowNumber = int(cowDirectoryName[1:])\n",
    "    # Sensor data is available only for cows 1 to 10, so cows with number greater than 10 (11, 12, 13, 14, 15, 16) are not considered here\n",
    "    if cowNumber > 10:\n",
    "        continue\n",
    "    cowDirectory = os.path.join(uwb_dir, cowDirectoryName)\n",
    "    day1FileName = \"{}_0721.csv\".format(cowDirectoryName)\n",
    "    day1File = os.path.join(cowDirectory, day1FileName)\n",
    "    df = pd.read_csv(day1File)\n",
    "    for index, row in df.iterrows():\n",
    "        timeStamp = float(row['timestamp'])\n",
    "        if timeStamp not in cdtTime:\n",
    "            cdtString = getCDT_TimeString(timeStamp)\n",
    "            cdtTime[timeStamp] = cdtString\n",
    "            timeStamps.append(timeStamp)\n",
    "        \n",
    "# Sorting the timestamps list to ensure the timestamps are in sorted order\n",
    "timeStamps.sort()"
   ]
  },
  {
   "cell_type": "code",
   "execution_count": null,
   "id": "0f8ccd6d-b07a-4c50-8858-30b3e07106c7",
   "metadata": {},
   "outputs": [],
   "source": []
  },
  {
   "cell_type": "code",
   "execution_count": null,
   "id": "d69ffb6f-46e0-41a8-a043-ffb66b9cdc35",
   "metadata": {},
   "outputs": [],
   "source": []
  },
  {
   "cell_type": "code",
   "execution_count": null,
   "id": "d4119061-725b-409c-b4f6-d1a687b29fa7",
   "metadata": {},
   "outputs": [],
   "source": [
    "# 2. FROM COW TIMESTAMP DATA, CREATE THE TIMESTAMP WISE LOCATION OF ALL 10 COWS FOR EACH TIMESTAMP"
   ]
  },
  {
   "cell_type": "code",
   "execution_count": 7,
   "id": "154ea1b7-2eea-43f2-add6-17eb65c0e169",
   "metadata": {},
   "outputs": [],
   "source": [
    "# INITIALIZING THE DICTIONARY TO STORE THE TIMESTAMP BASED COORDINATES FOR EACH COW\n",
    "cowTimestampCoordinates = defaultdict(dict)"
   ]
  },
  {
   "cell_type": "code",
   "execution_count": 8,
   "id": "35f85e1e-440e-42ea-9adc-4e60aba62772",
   "metadata": {},
   "outputs": [],
   "source": [
    "# ITERATING THROUGH THE DIRECTORY OF EACH COW TO POPULATE THE DAY 1 TIMESTAMP COORDINATES FOR EACH COW\n",
    "cowDirectoryNames = os.listdir(uwb_dir)\n",
    "for cowDirectoryName in cowDirectoryNames:\n",
    "    cowNumber = int(cowDirectoryName[1:])\n",
    "    # Sensor data is available only for cows 1 to 10, so cows with number greater than 10 (11, 12, 13, 14, 15, 16) are not considered here\n",
    "    if cowNumber > 10:\n",
    "        continue\n",
    "    cowDirectory = os.path.join(uwb_dir, cowDirectoryName)\n",
    "    day1FileName = \"{}_0721.csv\".format(cowDirectoryName)\n",
    "    day1File = os.path.join(cowDirectory, day1FileName)\n",
    "    timestampCoordinates = cowTimestampCoordinates[cowNumber]\n",
    "    df = pd.read_csv(day1File)\n",
    "    for index, row in df.iterrows():\n",
    "        timeStamp, x, y, z = list(row)\n",
    "        timestampCoordinates[timeStamp] = [x, y, z]"
   ]
  },
  {
   "cell_type": "code",
   "execution_count": null,
   "id": "621bb095-d80f-4c6a-986c-5ec21ddca2cb",
   "metadata": {},
   "outputs": [],
   "source": []
  },
  {
   "cell_type": "code",
   "execution_count": null,
   "id": "bbcf43cb-ffa0-4f11-9569-4d1a5399cb8c",
   "metadata": {},
   "outputs": [],
   "source": []
  },
  {
   "cell_type": "code",
   "execution_count": null,
   "id": "93aab816-4339-4553-8847-a00848e0057e",
   "metadata": {},
   "outputs": [],
   "source": [
    "# 3. ACCESS EACH TIMESTAMP IN ORDER TO CREATE THE CONTINUOUS COORDINATES"
   ]
  },
  {
   "cell_type": "code",
   "execution_count": 9,
   "id": "9ce7e7d1-a28b-4cce-81b2-2665cde8d036",
   "metadata": {},
   "outputs": [],
   "source": [
    "# INITIALIZING THE TIMESTAMPWISE COORDINATES DICT\n",
    "timestampCowCoordinates = defaultdict(list)"
   ]
  },
  {
   "cell_type": "code",
   "execution_count": 10,
   "id": "29218f92-15de-461a-8246-bb6b92e92e79",
   "metadata": {},
   "outputs": [],
   "source": [
    "# ITERATING THROUGH EACH COW TIMESTAMP COORDINATE DATA TO POPULATE THE TIME STAMP COW COORDINATES\n",
    "# Creating a sorted list of cows\n",
    "cowList = list(cowTimestampCoordinates.keys())\n",
    "cowList.sort()\n",
    "for cow in cowList:\n",
    "    timestampCoordinates = cowTimestampCoordinates[cow]\n",
    "    for timeStamp in timeStamps:\n",
    "        coordinates = timestampCoordinates[timeStamp] if timeStamp in timestampCoordinates else None\n",
    "        timestampCowCoordinates[timeStamp].append(coordinates)"
   ]
  },
  {
   "cell_type": "code",
   "execution_count": 11,
   "id": "968b8815-018a-4e46-8dbb-f9dfce850795",
   "metadata": {},
   "outputs": [],
   "source": [
    "# STORING THE TIME STAMP COW COORDINATES DICT AS JSON\n",
    "json_file = \"TimeStampCowCoordinates.json\"\n",
    "with open(json_file, 'w') as f:\n",
    "    json.dump(timestampCowCoordinates, f, indent=4)"
   ]
  },
  {
   "cell_type": "code",
   "execution_count": null,
   "id": "a2b923ce-54a3-4e49-9694-c2bbb8364ab6",
   "metadata": {},
   "outputs": [],
   "source": []
  },
  {
   "cell_type": "code",
   "execution_count": null,
   "id": "714cda06-95cb-4c99-b2c0-a37b538702b7",
   "metadata": {},
   "outputs": [],
   "source": []
  },
  {
   "cell_type": "code",
   "execution_count": null,
   "id": "285d5836-ad76-4c93-9ec1-2ec7c851839b",
   "metadata": {},
   "outputs": [],
   "source": [
    "# 4. USING THE CONTINUOUS COORDINATES CREATE SAMPLE VIDEO"
   ]
  },
  {
   "cell_type": "code",
   "execution_count": null,
   "id": "9816a444-ed05-4fcd-bc47-b3b0755effec",
   "metadata": {},
   "outputs": [],
   "source": [
    "# MATPLOTLIB OR MANIM?"
   ]
  },
  {
   "cell_type": "code",
   "execution_count": null,
   "id": "5ff3fd9c-4341-4b10-8899-4af7a9479be1",
   "metadata": {},
   "outputs": [],
   "source": [
    "# MANIM WAS USED AND THE REMAINING WORK WAS DONE IN PYCHARM / (OR SOME OTHER NATIVE IDE) AS JUPYTER DOESN'T HAVE A NATIVE GRAPHICS ENGINE"
   ]
  },
  {
   "cell_type": "code",
   "execution_count": null,
   "id": "6f6f4279-a824-4667-b23c-d39c10630ee9",
   "metadata": {},
   "outputs": [],
   "source": []
  },
  {
   "cell_type": "code",
   "execution_count": null,
   "id": "731946f9-436c-4a65-bd78-a2bec41f3021",
   "metadata": {},
   "outputs": [],
   "source": []
  },
  {
   "cell_type": "code",
   "execution_count": null,
   "id": "9dbd7661-3e07-4856-b7e6-d57c619ac6f5",
   "metadata": {},
   "outputs": [],
   "source": []
  },
  {
   "cell_type": "code",
   "execution_count": null,
   "id": "96b80be8-772f-440c-abab-32a642f2216d",
   "metadata": {},
   "outputs": [],
   "source": []
  },
  {
   "cell_type": "code",
   "execution_count": null,
   "id": "0d5bd168-cbed-4cde-8259-3a325e91871c",
   "metadata": {},
   "outputs": [],
   "source": []
  },
  {
   "cell_type": "code",
   "execution_count": null,
   "id": "717e064c-a7a2-4811-8ded-71e65fe94644",
   "metadata": {},
   "outputs": [],
   "source": []
  },
  {
   "cell_type": "code",
   "execution_count": null,
   "id": "1a746b01-ec49-4eb5-8f85-310335fe8d03",
   "metadata": {},
   "outputs": [],
   "source": []
  },
  {
   "cell_type": "code",
   "execution_count": null,
   "id": "5e48e2b8-164b-4c8c-b8ee-17a7f2431c25",
   "metadata": {},
   "outputs": [],
   "source": []
  },
  {
   "cell_type": "code",
   "execution_count": null,
   "id": "39ef5604-c841-4433-af43-5149227b3a11",
   "metadata": {},
   "outputs": [],
   "source": []
  },
  {
   "cell_type": "code",
   "execution_count": null,
   "id": "90d098e9-6c99-4059-a807-6b970c10ae84",
   "metadata": {},
   "outputs": [],
   "source": [
    "# SCRATCH PAD\n",
    "# ALL CODE BELOW THIS CELL ARE USED ONLY FOR ROUGH TRIALS AND NOT ACTUAL EXECUTION"
   ]
  },
  {
   "cell_type": "code",
   "execution_count": null,
   "id": "489726c9-3442-4229-8f98-41b8ea5c6690",
   "metadata": {},
   "outputs": [],
   "source": []
  },
  {
   "cell_type": "code",
   "execution_count": 12,
   "id": "1a51b30d-bfad-4775-af69-1b3bff5f7705",
   "metadata": {},
   "outputs": [],
   "source": [
    "day1_sensor_uwb_data_dir = \"D:/Sibi/Thesis/Data/MmCows_Dataset/sensor_data/main_data/uwb/T01/\""
   ]
  },
  {
   "cell_type": "code",
   "execution_count": 13,
   "id": "2cd15143-de66-4b25-8eee-c336540d45bf",
   "metadata": {},
   "outputs": [],
   "source": [
    "cowLocationFileNames = os.listdir(day1_sensor_uwb_data_dir)"
   ]
  },
  {
   "cell_type": "code",
   "execution_count": 26,
   "id": "f11434d8-53bc-4a6a-a678-293b3c35522c",
   "metadata": {},
   "outputs": [
    {
     "name": "stdout",
     "output_type": "stream",
     "text": [
      "D:/Sibi/Thesis/Data/MmCows_Dataset/sensor_data/main_data/uwb/T01/T01_0721.csv\n",
      "D:/Sibi/Thesis/Data/MmCows_Dataset/sensor_data/main_data/uwb/T01/T01_0722.csv\n",
      "D:/Sibi/Thesis/Data/MmCows_Dataset/sensor_data/main_data/uwb/T01/T01_0723.csv\n",
      "D:/Sibi/Thesis/Data/MmCows_Dataset/sensor_data/main_data/uwb/T01/T01_0724.csv\n",
      "D:/Sibi/Thesis/Data/MmCows_Dataset/sensor_data/main_data/uwb/T01/T01_0725.csv\n",
      "D:/Sibi/Thesis/Data/MmCows_Dataset/sensor_data/main_data/uwb/T01/T01_0726.csv\n",
      "D:/Sibi/Thesis/Data/MmCows_Dataset/sensor_data/main_data/uwb/T01/T01_0727.csv\n",
      "D:/Sibi/Thesis/Data/MmCows_Dataset/sensor_data/main_data/uwb/T01/T01_0728.csv\n",
      "D:/Sibi/Thesis/Data/MmCows_Dataset/sensor_data/main_data/uwb/T01/T01_0729.csv\n",
      "D:/Sibi/Thesis/Data/MmCows_Dataset/sensor_data/main_data/uwb/T01/T01_0730.csv\n",
      "D:/Sibi/Thesis/Data/MmCows_Dataset/sensor_data/main_data/uwb/T01/T01_0731.csv\n",
      "D:/Sibi/Thesis/Data/MmCows_Dataset/sensor_data/main_data/uwb/T01/T01_0801.csv\n",
      "D:/Sibi/Thesis/Data/MmCows_Dataset/sensor_data/main_data/uwb/T01/T01_0802.csv\n",
      "D:/Sibi/Thesis/Data/MmCows_Dataset/sensor_data/main_data/uwb/T01/T01_0803.csv\n",
      "D:/Sibi/Thesis/Data/MmCows_Dataset/sensor_data/main_data/uwb/T01/T01_0804.csv\n"
     ]
    }
   ],
   "source": [
    "for cowLocationFileName in cowLocationFileNames:\n",
    "    file = os.path.join(day1_sensor_uwb_data_dir, cowLocationFileName)\n",
    "    df = pd.read_csv(file)\n",
    "    print(file)\n",
    "    # print(df.columns)\n",
    "    # for index, row in df.iterrows():\n",
    "    #     timeStamp = float(row['timestamp'])\n",
    "    #     print(timeStamp, type(timeStamp), end='\\t')\n",
    "    #     cdtString = getCDT_TimeString(timeStamp)\n",
    "    #     print(cdtString)\n",
    "    # break"
   ]
  },
  {
   "cell_type": "code",
   "execution_count": null,
   "id": "7b738dc1-3a12-44c7-8590-810cfb4d7ac2",
   "metadata": {},
   "outputs": [],
   "source": []
  },
  {
   "cell_type": "code",
   "execution_count": null,
   "id": "c2212cd8-c710-4b1a-b8dd-a0b265503467",
   "metadata": {},
   "outputs": [],
   "source": []
  },
  {
   "cell_type": "code",
   "execution_count": 12,
   "id": "c28b2da7-e588-4c6b-a547-4c32a7ba291d",
   "metadata": {},
   "outputs": [],
   "source": [
    "# TEMPORARY CELL \n",
    "# FOR ANALYZING THE TIME STAMP COW COORDINATES DATA\n",
    "with open(\"TimeStampCowCoordinates.json\", \"r\") as file:\n",
    "    timestampCowCoordinates = json.load(file)"
   ]
  },
  {
   "cell_type": "code",
   "execution_count": 13,
   "id": "a233dd04-cbfd-4013-ad08-1e3cf1a10890",
   "metadata": {},
   "outputs": [
    {
     "data": {
      "text/plain": [
       "2760"
      ]
     },
     "execution_count": 13,
     "metadata": {},
     "output_type": "execute_result"
    }
   ],
   "source": [
    "# PRINTING THE LENGTH OF DATA / TOTAL TIMESTAMPS AVAILABLE\n",
    "len(timestampCowCoordinates)"
   ]
  },
  {
   "cell_type": "code",
   "execution_count": 26,
   "id": "80455fc2-37f5-408c-858b-0152222748dd",
   "metadata": {},
   "outputs": [
    {
     "data": {
      "text/plain": [
       "2760"
      ]
     },
     "execution_count": 26,
     "metadata": {},
     "output_type": "execute_result"
    }
   ],
   "source": [
    "len(timestamps)"
   ]
  },
  {
   "cell_type": "code",
   "execution_count": 33,
   "id": "ecb3c4ae-ed50-48ce-a4fa-19cdc0ce4846",
   "metadata": {},
   "outputs": [
    {
     "name": "stdout",
     "output_type": "stream",
     "text": [
      "188\n"
     ]
    }
   ],
   "source": [
    "total = 0\n",
    "for timestamp in timestamps:\n",
    "    timestampString = str(timestamp)\n",
    "    positions = timestampCowCoordinates[timestampString]\n",
    "    flag = False\n",
    "    for position in positions:\n",
    "        if position is not None and np.isnan(position[0]):\n",
    "            flag = True\n",
    "            break\n",
    "    if flag:\n",
    "        total += 1\n",
    "print(total)"
   ]
  },
  {
   "cell_type": "code",
   "execution_count": 14,
   "id": "e4d7db89-a8cd-4ecb-bdb4-a72713af6592",
   "metadata": {},
   "outputs": [],
   "source": [
    "# CREATING DICTS TIMESTAMPLENGTH, AND LENGTHTIMESTAMPS TO ANALYSE THE COORDINATES COUNT PRESENT IN EACH TIMESTAMP AND \n",
    "# NUMBER OF TIMESTAMPS WITH SPECIFIC NO. OF COORDINATES\n",
    "timeStampLength = dict()\n",
    "lengthTimestamps = defaultdict(list)\n",
    "for timeStamp, positions in timestampCowCoordinates.items():\n",
    "    length = 0\n",
    "    for position in positions:\n",
    "        if position is not None:\n",
    "            length += 1\n",
    "    timeStampLength[timeStamp] = length\n",
    "    lengthTimestamps[length].append(timeStamp)"
   ]
  },
  {
   "cell_type": "code",
   "execution_count": 15,
   "id": "a5241720-af40-4a59-b107-fc26f9c0467e",
   "metadata": {},
   "outputs": [
    {
     "name": "stdout",
     "output_type": "stream",
     "text": [
      "7 4\n",
      "8 37\n",
      "9 1557\n",
      "10 1162\n"
     ]
    }
   ],
   "source": [
    "# PRINTING THE NO. OF TIMESTAMPS PRESENT FOR SPECIFIC NO. OF COORDINATES ALONG WITH THE NO. OF COORDINATES FOR VISUAL REFERENCES\n",
    "lengthList = list(lengthTimestamps.keys())\n",
    "lengthList.sort()\n",
    "for length in lengthList:\n",
    "    print(length, len(lengthTimestamps[length]))"
   ]
  },
  {
   "cell_type": "code",
   "execution_count": 16,
   "id": "4e360646-e54a-4344-9854-25c96eb8f6c4",
   "metadata": {},
   "outputs": [],
   "source": [
    "# Convert timestamps to sorted list (ensure they are integers)\n",
    "timestamps = sorted(map(float, timestampCowCoordinates.keys()))\n",
    "\n",
    "# Get unique indexes from the dataset\n",
    "num_ids = len(timestampCowCoordinates[str(timestamps[0])])  # Assuming each timestamp has 10 indexes\n",
    "\n",
    "# Find min and max values of x and y across all timestamps\n",
    "all_x, all_y = [], []\n",
    "for positions in timestampCowCoordinates.values():\n",
    "    for pos in positions:\n",
    "        if pos is not None:\n",
    "            all_x.append(pos[0])\n",
    "            all_y.append(pos[1])\n",
    "\n",
    "# Compute min and max\n",
    "min_x, max_x = min(all_x), max(all_x)\n",
    "min_y, max_y = min(all_y), max(all_y)\n",
    "\n",
    "# Define Manim coordinate limits\n",
    "manim_x_range, manim_y_range = (-6, 6), (-3.5, 3.5)\n",
    "\n",
    "def normalize_coord(x, y):\n",
    "    \"\"\"Normalize original coordinates to fit inside Manim's video frame.\"\"\"\n",
    "    norm_x = np.interp(x, [min_x, max_x], manim_x_range)\n",
    "    norm_y = np.interp(y, [min_y, max_y], manim_y_range)\n",
    "    return norm_x, norm_y"
   ]
  },
  {
   "cell_type": "code",
   "execution_count": null,
   "id": "94882193-e4e4-4b50-ad49-9e20b374d25d",
   "metadata": {},
   "outputs": [],
   "source": []
  },
  {
   "cell_type": "code",
   "execution_count": 36,
   "id": "0a62d394-a055-4fcf-88b1-cead17ac8082",
   "metadata": {},
   "outputs": [
    {
     "name": "stdout",
     "output_type": "stream",
     "text": [
      "0\n"
     ]
    }
   ],
   "source": [
    "# Get starting coordinates\n",
    "startingCoordinates = timestampCowCoordinates[str(timestamps[0])]\n",
    "last_known_positions = {\n",
    "    i: normalize_coord(startingCoordinates[i][0], startingCoordinates[i][1])\n",
    "    if startingCoordinates[i] is not None else (0, 0)\n",
    "    for i in range(num_ids)\n",
    "}\n",
    "\n",
    "# total = 0\n",
    "# Animate movement over timestamps\n",
    "for i in range(len(timestamps) - 1):\n",
    "    t1, t2 = str(timestamps[i]), str(timestamps[i + 1])\n",
    "    dt = float(t2) - float(t1)  # Time difference (15s per step)\n",
    "\n",
    "    # Get new positions\n",
    "    new_positions = timestampCowCoordinates[t2]\n",
    "\n",
    "    # Create animations\n",
    "    animations = []\n",
    "    for idx in range(num_ids):\n",
    "        if new_positions[idx] is not None and not np.isnan(new_positions[idx][0]):\n",
    "            new_x, new_y, _ = new_positions[idx]  # Extract x, y (ignore z)\n",
    "            new_x, new_y = normalize_coord(new_x, new_y)  # Normalize coordinates\n",
    "            last_known_positions[idx] = (new_x, new_y)  # Update last known position\n",
    "        else:\n",
    "            new_x, new_y = last_known_positions[idx]  # Use last known position\n",
    "        # if not -6 <= new_x <= 6 or not -3.5 <= new_y <= 3.5:\n",
    "        #     total += 1\n",
    "        #     print(i, idx, timestamps[i], cdtTime[timestamps[i]])\n",
    "        #     print(new_positions[idx], [new_x, new_y]) \n",
    "        #     print()\n",
    "# print(total)"
   ]
  },
  {
   "cell_type": "code",
   "execution_count": null,
   "id": "ab6e21cf-aea2-4609-a48e-6051906003b2",
   "metadata": {},
   "outputs": [],
   "source": []
  },
  {
   "cell_type": "code",
   "execution_count": null,
   "id": "abf4d258-5c9a-47cc-879c-a3270b99e964",
   "metadata": {},
   "outputs": [],
   "source": []
  },
  {
   "cell_type": "code",
   "execution_count": null,
   "id": "46e2f102-d974-423e-a405-9b163b4d52e2",
   "metadata": {},
   "outputs": [],
   "source": []
  },
  {
   "cell_type": "code",
   "execution_count": null,
   "id": "f314e1e7-772f-46d5-bdc1-efb9d57cb844",
   "metadata": {},
   "outputs": [],
   "source": []
  }
 ],
 "metadata": {
  "kernelspec": {
   "display_name": "Python 3 (ipykernel)",
   "language": "python",
   "name": "python3"
  },
  "language_info": {
   "codemirror_mode": {
    "name": "ipython",
    "version": 3
   },
   "file_extension": ".py",
   "mimetype": "text/x-python",
   "name": "python",
   "nbconvert_exporter": "python",
   "pygments_lexer": "ipython3",
   "version": "3.9.21"
  }
 },
 "nbformat": 4,
 "nbformat_minor": 5
}
